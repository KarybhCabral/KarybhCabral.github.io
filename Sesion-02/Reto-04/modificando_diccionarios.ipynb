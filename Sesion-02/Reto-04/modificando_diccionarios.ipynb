{
  "cells": [
    {
      "cell_type": "markdown",
      "metadata": {
        "id": "2oTFn7WmitX8"
      },
      "source": [
        "## Reto 4: Modificando diccionarios\n",
        "\n",
        "### 1. Objetivos:\n",
        "    - Practicar agregar datos, modificar datos y eliminar datos de diccionarios\n",
        "\n",
        "---\n",
        "    \n",
        "### 2. Desarrollo:"
      ]
    },
    {
      "cell_type": "markdown",
      "metadata": {
        "id": "UUWGm7GPitX-"
      },
      "source": [
        "Debajo tienes un diccionario que contiene algo de información sobre una persona:"
      ]
    },
    {
      "cell_type": "code",
      "execution_count": null,
      "metadata": {
        "collapsed": true,
        "id": "LGbHUr71itX_"
      },
      "outputs": [],
      "source": [
        "\n",
        "\n",
        "registro = {\n",
        "    \"id\": \"23f-58j-kju7-54re\",\n",
        "    \"nombre\": \"Alberto\",\n",
        "    \"apellido_materno\": \"Gutierrez\",\n",
        "    \"apellido_paterno\": \"Sosa\",\n",
        "    \"profesion\": \"Contador\",\n",
        "    \"ultimo_nivel_de_estudios\": \"Maestría\",\n",
        "    \"lugar_de_estudios\": \"UAM\",\n",
        "    \"numero_de_cuenta\": \"25367890\",\n",
        "    \"nip_de_cajero\": \"142\"}\n",
        "\n",
        "# Tu código va aquí\n",
        "# Tecnica para modificar valores de diccionario.\n",
        "registro[\"nombre\"] = \"Sofia\"\n",
        "registro[\"apellido_paterno\"] = \"Sanchez\"\n",
        "registro[\"apellido_materno\"]= \"Hernandez\"\n",
        "registro[\"profesion\"]= \"Ingeniero\"\n",
        "registro[\"lugar_de_estudios\"]= \"UMAM\"\n",
        "registro[\"correo_electronico\"]= \"guapa@gmail.com\"\n",
        "\n",
        "#Usando la técnica para agregar datos al diccionario agrega las llaves que estén siendo accesadas en el print pero que no han sido agregadas al diccionario.\n",
        "registro[\"fecha_de_nacimiento\"] = \"14/02/2000\"\n",
        "registro[\"lugar_de_nacimiento\"] = \"Monterrey\"\n",
        "\n",
        "#Usando la técnica para eliminar datos del diccionario, elimina los datos sensibles que no quieras que estén incluidos en el diccionario.\n",
        "registro.pop(\"lugar_de_estudios\")\n",
        "registro.pop(\"nip_de_cajero\") #Fixed:  \"nip_de_cajero\" should be popped, not \"correo_electronico\"\n",
        "\n",
        "\n",
        "registro= [\"profesion\"]= \"Ingeniero\"\n",
        "registro= [lugar_de_estudios]= \"UMM\"\n",
        "registro= [correo_electronico]= guapa@gmail.com\n",
        "\n",
        "#Usando la técnica para agregar datos al diccionario agrega las llaves que estén siendo accesadas en el print pero que no han sido agregadas al diccionario.\n",
        "registro[\"fecha_de_nacimiento\"] = \"14/02/2000\"\n",
        "registro[\"lugar_de_nacimiento\"] = \"Monterrey\"\n",
        "\n",
        "#Usando la técnica para eliminar datos del diccionario, elimina los datos sensibles que no quieras que estén incluidos en el diccionario.\n",
        "registro.pop(\"lugar_de_estudios\")\n",
        "registro.pop(\"correo_electronico\")\n",
        "\n",
        "\n"
      ]
    },
    {
      "cell_type": "markdown",
      "metadata": {
        "id": "UFvsiHJYitYA"
      },
      "source": [
        "Ahora, tenemos una serie de `prints` que imprimen esta información en forma de tabla:"
      ]
    },
    {
      "cell_type": "code",
      "execution_count": null,
      "metadata": {
        "id": "R35KYN75itYA"
      },
      "outputs": [],
      "source": [
        "print(f'Registro con id: {registro[\"id\"]}\\n')\n",
        "print(f'---------------------------------------\\n')\n",
        "print(f'{(\"Nombre\"):25} | {registro[\"nombre\"]:25}')\n",
        "print(f'{(\"Apellido Materno\"):25} | {registro[\"apellido_materno\"]:25}')\n",
        "print(f'{(\"Apellido Paterno\"):25} | {registro[\"apellido_paterno\"]:25}')\n",
        "print(f'{(\"Profesión\"):25} | {registro[\"profesion\"]:25}')\n",
        "print(f'{(\"Último nivel de estudios\"):25} | {registro[\"ultimo_nivel_de_estudios\"]:25}')\n",
        "print(f'{(\"Lugar de estudios\"):25} | {registro[\"lugar_de_estudios\"]:25}')\n",
        "print(f'{(\"Fecha de nacimiento\"):25} | {registro[\"fecha_de_nacimiento\"]:25}')\n",
        "print(f'{(\"Lugar de nacimiento\"):25} | {registro[\"lugar_de_nacimiento\"]:25}')"
      ]
    },
    {
      "cell_type": "markdown",
      "metadata": {
        "id": "HBfakQVzitYB"
      },
      "source": [
        "La actividad tienen 3 partes:\n",
        "\n",
        "1. Usando la técnica para modificar valores en un diccionario, cambia la información del diccionario para que sea la tuya.\n",
        "2. Usando la técnica para agregar datos al diccionario agrega las llaves que estén siendo accesadas en el `print` pero que no han sido agregadas al diccionario.\n",
        "3. Usando la técnica para eliminar datos del diccionario, elimina los datos sensibles que no quieras que estén incluidos en el diccionario.\n",
        "\n",
        "Recuerda sólo utilizar métodos y operadores para realizar el ejercicio. **No reescribas el diccionario directamente**."
      ]
    },
    {
      "cell_type": "markdown",
      "metadata": {
        "id": "-7t9BE6ditYB"
      },
      "source": [
        "<details><summary>Solución</summary>\n",
        "\n",
        "```python\n",
        "# Si eres Alberto Sosa Gutiérrez, perdón por usar tus datos sin tu permiso\n",
        "    \n",
        "registro[\"nombre\"] = \"José Ramón\"\n",
        "registro[\"apellido_materno\"] = \"Arias\"\n",
        "registro[\"apellido_paterno\"] = \"González\"\n",
        "registro[\"profesion\"] = \"Cientifico de Datos\"\n",
        "registro[\"ultimo_nivel_de_estudios\"] = \"licenciatura\"\n",
        "registro[\"lugar_de_estudios\"] = \"UNAM\"\n",
        "registro[\"fecha_de_nacimiento\"] = \"28 de Marzo de 1989\"\n",
        "registro[\"lugar_de_nacimiento\"] = \"CDMX\"\n",
        "registro.pop(\"numero_de_cuenta\")\n",
        "registro.pop(\"nip_de_cajero\")\n",
        "```\n",
        "    \n",
        "</details>"
      ]
    },
    {
      "cell_type": "code",
      "execution_count": null,
      "metadata": {
        "id": "RgnL9lusitYC"
      },
      "outputs": [],
      "source": []
    }
  ],
  "metadata": {
    "kernelspec": {
      "display_name": "Python (data_science)",
      "language": "python",
      "name": "data_science"
    },
    "language_info": {
      "codemirror_mode": {
        "name": "ipython",
        "version": 3
      },
      "file_extension": ".py",
      "mimetype": "text/x-python",
      "name": "python",
      "nbconvert_exporter": "python",
      "pygments_lexer": "ipython3",
      "version": "3.8.5"
    },
    "colab": {
      "provenance": []
    }
  },
  "nbformat": 4,
  "nbformat_minor": 0
}